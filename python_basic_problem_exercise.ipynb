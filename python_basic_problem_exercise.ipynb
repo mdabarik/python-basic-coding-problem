{
  "nbformat": 4,
  "nbformat_minor": 0,
  "metadata": {
    "colab": {
      "provenance": []
    },
    "kernelspec": {
      "name": "python3",
      "display_name": "Python 3"
    },
    "language_info": {
      "name": "python"
    }
  },
  "cells": [
    {
      "cell_type": "markdown",
      "source": [
        "**Q-1: Take values of the length & breadth of a rectangle from user input and check if it is square or not.**"
      ],
      "metadata": {
        "id": "8-dAD0Lb0o8w"
      }
    },
    {
      "cell_type": "code",
      "source": [
        "length = int(input())\n",
        "breadth = int(input())"
      ],
      "metadata": {
        "colab": {
          "base_uri": "https://localhost:8080/"
        },
        "id": "sj_NhBBl0vIG",
        "outputId": "249529c3-768e-4b0a-b5af-790b47168829"
      },
      "execution_count": 3,
      "outputs": [
        {
          "name": "stdout",
          "output_type": "stream",
          "text": [
            "5\n",
            "5\n"
          ]
        }
      ]
    },
    {
      "cell_type": "code",
      "source": [
        "if (length == breadth):\n",
        "  print(\"Square\")\n",
        "else:\n",
        "  print(\"Not a Square\")"
      ],
      "metadata": {
        "colab": {
          "base_uri": "https://localhost:8080/"
        },
        "id": "7CAHItQp1CIP",
        "outputId": "8c9d3f66-39f2-42de-8d68-6a79aa35322d"
      },
      "execution_count": 4,
      "outputs": [
        {
          "output_type": "stream",
          "name": "stdout",
          "text": [
            "Square\n"
          ]
        }
      ]
    },
    {
      "cell_type": "markdown",
      "source": [
        "**Q-2: Take three integer values from the user and print the greatest among them.**"
      ],
      "metadata": {
        "id": "iroN7waT1UHy"
      }
    },
    {
      "cell_type": "code",
      "source": [
        "n1 = int(input())\n",
        "n2 = int(input())\n",
        "n3 = int(input())\n",
        "if (n1 > n2 and n1 > n3):\n",
        "  print(n1)\n",
        "elif (n2 > n1 and n2 > n3):\n",
        "  print(n2)\n",
        "else:\n",
        "  print(n3)"
      ],
      "metadata": {
        "colab": {
          "base_uri": "https://localhost:8080/"
        },
        "id": "pAlhABY-1bji",
        "outputId": "ca982311-103d-4876-e00f-4137950b1f4b"
      },
      "execution_count": 5,
      "outputs": [
        {
          "output_type": "stream",
          "name": "stdout",
          "text": [
            "5\n",
            "3\n",
            "7\n",
            "7\n"
          ]
        }
      ]
    },
    {
      "cell_type": "markdown",
      "source": [
        "**Q-3: A student will not be allowed to sit in an exam if his/her attendance is less than 75%.**"
      ],
      "metadata": {
        "id": "om6T3pjC19DF"
      }
    },
    {
      "cell_type": "code",
      "source": [
        "total_class = int(input())\n",
        "total_attendance = int(input())\n",
        "percentage = (100 * total_attendance) / total_class;\n",
        "if (percentage / 100 < .75):\n",
        "  print(\"Not allowed\")\n",
        "else:\n",
        "  print(\"Allowed\")"
      ],
      "metadata": {
        "colab": {
          "base_uri": "https://localhost:8080/"
        },
        "id": "IPi5ic8q326Q",
        "outputId": "75a2e8b0-05c5-49bd-9f8b-39d6bc618596"
      },
      "execution_count": 9,
      "outputs": [
        {
          "output_type": "stream",
          "name": "stdout",
          "text": [
            "32\n",
            "20\n",
            "Not allowed\n"
          ]
        }
      ]
    },
    {
      "cell_type": "markdown",
      "source": [
        "\n",
        "**Q-4: A school has the following rules for the grading system:** \n",
        "* Below 25 – F, \n",
        "* 25 to 44 – E, \n",
        "* 45 to 49 – D, \n",
        "* 50 to 59 – C, \n",
        "* 60 to 79 – B, \n",
        "* 80 to 89 - A, \n",
        "* Above 90 - A+\n",
        "\n",
        "**Now, Ask the user to enter marks and print the corresponding grade.**"
      ],
      "metadata": {
        "id": "nwnyO8AG5NWi"
      }
    },
    {
      "cell_type": "code",
      "source": [
        "number = int(input())\n",
        "if (number < 25):\n",
        "  print('F')\n",
        "elif (number >= 25 and number <= 44):\n",
        "  print('E')\n",
        "elif (number >= 45 and number <= 49):\n",
        "  print('D')\n",
        "elif (number >= 50 and number <= 59):\n",
        "  print('C')\n",
        "elif (number >= 60 and number <= 79):\n",
        "  print('B')\n",
        "elif (number >= 80 and number <= 89):\n",
        "  print('A')\n",
        "elif (number >= 90 and number <= 100):\n",
        "  print('A++');\n",
        "else:\n",
        "  print('Invalid Input')"
      ],
      "metadata": {
        "colab": {
          "base_uri": "https://localhost:8080/"
        },
        "id": "G67XwSgk51oM",
        "outputId": "0df3e1bc-5ff8-408e-f4c5-ec68e6351021"
      },
      "execution_count": 11,
      "outputs": [
        {
          "output_type": "stream",
          "name": "stdout",
          "text": [
            "78\n",
            "B\n"
          ]
        }
      ]
    },
    {
      "cell_type": "markdown",
      "source": [
        "**Q-5: Print the following pattern using for and while loop.**\n",
        "\n",
        "```\n",
        "1 2 3 4 5 6 7\n",
        "1 2 3 4 5 6\n",
        "1 2 3 4 5\n",
        "1 2 3 4\n",
        "```\n",
        "\n",
        "\n",
        "\n"
      ],
      "metadata": {
        "id": "tCFmI0Li8JrM"
      }
    },
    {
      "cell_type": "code",
      "source": [
        "for i in range(7, 3, -1):\n",
        "  for j in range(1, i + 1):\n",
        "    print(j, sep = '', end = '')\n",
        "  print('', end = '\\n');\n"
      ],
      "metadata": {
        "colab": {
          "base_uri": "https://localhost:8080/"
        },
        "id": "_QPL9xl89IiO",
        "outputId": "d18f08c5-c2d1-4297-db33-5cf6ae1e4506"
      },
      "execution_count": 21,
      "outputs": [
        {
          "output_type": "stream",
          "name": "stdout",
          "text": [
            "1234567\n",
            "123456\n",
            "12345\n",
            "1234\n"
          ]
        }
      ]
    },
    {
      "cell_type": "code",
      "source": [
        "i = 7;\n",
        "while (i >= 4):\n",
        "  j = 1\n",
        "  while (j <= i):\n",
        "    print(j, sep = '', end = '')\n",
        "    j += 1\n",
        "  print('', end = '\\n');\n",
        "  i -= 1;"
      ],
      "metadata": {
        "colab": {
          "base_uri": "https://localhost:8080/"
        },
        "id": "fM0BPaOd-E_M",
        "outputId": "5c115f15-aa62-4bac-8789-226f022b8980"
      },
      "execution_count": 22,
      "outputs": [
        {
          "output_type": "stream",
          "name": "stdout",
          "text": [
            "1234567\n",
            "123456\n",
            "12345\n",
            "1234\n"
          ]
        }
      ]
    },
    {
      "cell_type": "markdown",
      "source": [
        "**Q-6: Display numbers from -100 to -10 using for loop.**"
      ],
      "metadata": {
        "id": "Xxuv57Xk-kRf"
      }
    },
    {
      "cell_type": "code",
      "source": [
        "for i in range(-100, -9):\n",
        "  print(i, end = ' ')"
      ],
      "metadata": {
        "colab": {
          "base_uri": "https://localhost:8080/"
        },
        "id": "-VAvb-UA-7Hw",
        "outputId": "71e5b7cf-a813-4d8b-bc13-ff2377e4b2d3"
      },
      "execution_count": 25,
      "outputs": [
        {
          "output_type": "stream",
          "name": "stdout",
          "text": [
            "-100 -99 -98 -97 -96 -95 -94 -93 -92 -91 -90 -89 -88 -87 -86 -85 -84 -83 -82 -81 -80 -79 -78 -77 -76 -75 -74 -73 -72 -71 -70 -69 -68 -67 -66 -65 -64 -63 -62 -61 -60 -59 -58 -57 -56 -55 -54 -53 -52 -51 -50 -49 -48 -47 -46 -45 -44 -43 -42 -41 -40 -39 -38 -37 -36 -35 -34 -33 -32 -31 -30 -29 -28 -27 -26 -25 -24 -23 -22 -21 -20 -19 -18 -17 -16 -15 -14 -13 -12 -11 -10 "
          ]
        }
      ]
    },
    {
      "cell_type": "markdown",
      "source": [
        "**Q-7: Write a program to sum all prime numbers within a range of 10 to 1000.**"
      ],
      "metadata": {
        "id": "FKXpsyPk_TYF"
      }
    },
    {
      "cell_type": "code",
      "source": [
        "def is_prime(num):\n",
        "  for i in range(2, num): # we can check by deviding upto half of num\n",
        "    if (num % i == 0):\n",
        "      return False;\n",
        "  return True;\n",
        "\n",
        "sum = 0;\n",
        "for num in range(10, 1001):\n",
        "  if (is_prime(num)):\n",
        "    sum += num;\n",
        "print(sum)"
      ],
      "metadata": {
        "colab": {
          "base_uri": "https://localhost:8080/"
        },
        "id": "-IVY-Zuz_Zaa",
        "outputId": "a6df457d-ba40-4f59-e1f5-bccfd2ed6185"
      },
      "execution_count": 27,
      "outputs": [
        {
          "output_type": "stream",
          "name": "stdout",
          "text": [
            "76110\n"
          ]
        }
      ]
    },
    {
      "cell_type": "markdown",
      "source": [
        "Q-8: Find the factorial of an n! (Hint, n=7: 7*6*5*4*3*2*1)."
      ],
      "metadata": {
        "id": "0ZkEk3m1AxfF"
      }
    },
    {
      "cell_type": "code",
      "source": [
        "n = int(input())\n",
        "factorial = 1\n",
        "for i in range(1, n + 1):\n",
        "  factorial *= i;\n",
        "print(factorial)\n",
        "\n",
        "def factorial(n):\n",
        "  if (n == 1): return 1;\n",
        "  return n * factorial(n - 1);\n",
        "factorial(n)\n"
      ],
      "metadata": {
        "colab": {
          "base_uri": "https://localhost:8080/"
        },
        "id": "cnJA7RZ6BEw8",
        "outputId": "a5bcadac-66cf-4a4e-e1f6-bd1af36c3675"
      },
      "execution_count": 32,
      "outputs": [
        {
          "output_type": "stream",
          "name": "stdout",
          "text": [
            "8\n",
            "40320\n"
          ]
        },
        {
          "output_type": "execute_result",
          "data": {
            "text/plain": [
              "40320"
            ]
          },
          "metadata": {},
          "execution_count": 32
        }
      ]
    },
    {
      "cell_type": "markdown",
      "source": [
        "Q-9: Reverse a given integer number 27956240710."
      ],
      "metadata": {
        "id": "YdINrEeDCA8N"
      }
    },
    {
      "cell_type": "code",
      "source": [
        "number = int(input())\n",
        "reverse = 0\n",
        "while (number != 0):\n",
        "  last_digit = number % 10\n",
        "  reverse = reverse * 10 + last_digit\n",
        "  number = number // 10\n",
        "print(reverse)"
      ],
      "metadata": {
        "colab": {
          "base_uri": "https://localhost:8080/"
        },
        "id": "4ddFiroDCGSp",
        "outputId": "c53153d0-6e51-4e33-8329-713807a41b60"
      },
      "execution_count": 34,
      "outputs": [
        {
          "output_type": "stream",
          "name": "stdout",
          "text": [
            "27956240710\n",
            "1704265972\n"
          ]
        }
      ]
    },
    {
      "cell_type": "markdown",
      "source": [
        "Q-10: Print the following pattern using for and while loop.\n",
        "> ###\n",
        "> ####\n",
        "> ###\n",
        "> ##"
      ],
      "metadata": {
        "id": "GMHsUkBIEGSg"
      }
    },
    {
      "cell_type": "code",
      "source": [
        "print('###')\n",
        "for i in range(4, 1, -1):\n",
        "  for j in range(1, i+1):\n",
        "    print('#', end = '')\n",
        "  print('');"
      ],
      "metadata": {
        "colab": {
          "base_uri": "https://localhost:8080/"
        },
        "id": "E07WFQ5DEIrM",
        "outputId": "a27c69b8-68c2-40a7-f68d-a29e9370fce4"
      },
      "execution_count": 37,
      "outputs": [
        {
          "output_type": "stream",
          "name": "stdout",
          "text": [
            "###\n",
            "####\n",
            "###\n",
            "##\n"
          ]
        }
      ]
    },
    {
      "cell_type": "code",
      "source": [
        "print('###')\n",
        "i = 4\n",
        "while (i >= 2):\n",
        "  j = 1\n",
        "  while (j < i):\n",
        "    print('#', end='')\n",
        "    j += 1\n",
        "  print('#')\n",
        "  i -= 1"
      ],
      "metadata": {
        "colab": {
          "base_uri": "https://localhost:8080/"
        },
        "id": "WAE-_7zpEUqf",
        "outputId": "ec511bc1-a01a-40ec-8364-3bf68f7f0a67"
      },
      "execution_count": 41,
      "outputs": [
        {
          "output_type": "stream",
          "name": "stdout",
          "text": [
            "###\n",
            "####\n",
            "###\n",
            "##\n"
          ]
        }
      ]
    },
    {
      "cell_type": "markdown",
      "source": [
        "Q-11: Display the Fibonacci series of 15 elements using the for and while loop."
      ],
      "metadata": {
        "id": "aD3TYDNIFOEW"
      }
    },
    {
      "cell_type": "code",
      "source": [
        "n = 15\n",
        "list = [0] * n\n",
        "list[0] = 1\n",
        "list[1] = 1\n",
        "for i in range(2, n):\n",
        "  list[i] = list[i-1] + list[i-2]\n",
        "print(list)"
      ],
      "metadata": {
        "colab": {
          "base_uri": "https://localhost:8080/"
        },
        "id": "VqEmznnlFTeB",
        "outputId": "0f01ff2f-d815-4820-ff44-f74e38f193b5"
      },
      "execution_count": 42,
      "outputs": [
        {
          "output_type": "stream",
          "name": "stdout",
          "text": [
            "[1, 1, 2, 3, 5, 8, 13, 21, 34, 55, 89, 144, 233, 377, 610]\n"
          ]
        }
      ]
    },
    {
      "cell_type": "code",
      "source": [
        "n = 15\n",
        "list = [0] * n\n",
        "list[0] = 1\n",
        "list[1] = 1\n",
        "index = 2\n",
        "while (index < n):\n",
        "  list[index] = list[index-1] + list[index-2]\n",
        "  index += 1\n",
        "print(list)"
      ],
      "metadata": {
        "colab": {
          "base_uri": "https://localhost:8080/"
        },
        "id": "H9GpiiR3GCly",
        "outputId": "fdbe7946-850d-42c5-da05-a6099e5f0808"
      },
      "execution_count": 45,
      "outputs": [
        {
          "output_type": "stream",
          "name": "stdout",
          "text": [
            "[1, 1, 2, 3, 5, 8, 13, 21, 34, 55, 89, 144, 233, 377, 610]\n"
          ]
        }
      ]
    },
    {
      "cell_type": "markdown",
      "source": [
        "Q-12: Remove 2 and add 3 to the list and replace True with False.\n",
        "Li = [1,3,5, [2,3], True]"
      ],
      "metadata": {
        "id": "py-_neVaGTH-"
      }
    },
    {
      "cell_type": "code",
      "source": [
        "Li = [1,3,5,[2,3],True]\n",
        "Li[3].remove(2)\n",
        "Li.append(2)\n",
        "Li[4] = False\n",
        "Li"
      ],
      "metadata": {
        "colab": {
          "base_uri": "https://localhost:8080/"
        },
        "id": "iPEHKj-bGYE0",
        "outputId": "3327e35e-be4e-4cf0-eabd-83850c49fca5"
      },
      "execution_count": 48,
      "outputs": [
        {
          "output_type": "execute_result",
          "data": {
            "text/plain": [
              "[1, 3, 5, [3], False, 2]"
            ]
          },
          "metadata": {},
          "execution_count": 48
        }
      ]
    },
    {
      "cell_type": "markdown",
      "source": [
        "Q-13: Find the intersection (common) of two sets.\n",
        "> S1 = {1,4,6,8}\n",
        "\n",
        "> S2 = {True, 1,2,10}"
      ],
      "metadata": {
        "id": "I-DaBmKRIvgY"
      }
    },
    {
      "cell_type": "code",
      "source": [
        "s1 = {1,4,6,8}\n",
        "s2 = {True, 1,2,10}\n",
        "print(s1.intersection(s2))\n"
      ],
      "metadata": {
        "colab": {
          "base_uri": "https://localhost:8080/"
        },
        "id": "YuhgjKV4I2ll",
        "outputId": "4e540fca-db5e-432f-8d8a-9cde99c72cd5"
      },
      "execution_count": 55,
      "outputs": [
        {
          "output_type": "stream",
          "name": "stdout",
          "text": [
            "{True}\n"
          ]
        }
      ]
    },
    {
      "cell_type": "code",
      "source": [
        "S1 = {1, 4, 6, 8}\n",
        "S2 = {True, 1, 2, 10}\n",
        "\n",
        "intersection = S1.intersection(S2)\n",
        "\n",
        "print(intersection) # True is considered as 1"
      ],
      "metadata": {
        "colab": {
          "base_uri": "https://localhost:8080/"
        },
        "id": "b6gOThqMJ2ym",
        "outputId": "4c57c397-5af7-49c4-c1f8-03d959a31e88"
      },
      "execution_count": 59,
      "outputs": [
        {
          "output_type": "stream",
          "name": "stdout",
          "text": [
            "{True}\n"
          ]
        }
      ]
    },
    {
      "cell_type": "markdown",
      "source": [
        "Q-14: Input a list from the user then Remove duplicates from a list and create a set and find the max\n",
        "number. User_input = [1,9,3,4,5,200,54]"
      ],
      "metadata": {
        "id": "D_MLb0tUKc9l"
      }
    },
    {
      "cell_type": "code",
      "source": [
        "n = int(input())\n",
        "user_input = [0] * n\n",
        "for i in range(n):\n",
        "  user_input[i] = int(input())\n",
        "\n",
        "new_user_input = list(set(user_input)) # if list is not callable, run >> del list\n",
        "print(new_user_input)\n",
        "\n",
        "max(new_user_input)"
      ],
      "metadata": {
        "colab": {
          "base_uri": "https://localhost:8080/"
        },
        "id": "ibsEGQAQKkLC",
        "outputId": "b960cfbd-2347-450c-9712-ce1569f33bc4"
      },
      "execution_count": 64,
      "outputs": [
        {
          "output_type": "stream",
          "name": "stdout",
          "text": [
            "7\n",
            "1\n",
            "9\n",
            "3\n",
            "4\n",
            "5\n",
            "200\n",
            "54\n",
            "[1, 3, 4, 5, 200, 9, 54]\n"
          ]
        },
        {
          "output_type": "execute_result",
          "data": {
            "text/plain": [
              "200"
            ]
          },
          "metadata": {},
          "execution_count": 64
        }
      ]
    },
    {
      "cell_type": "markdown",
      "source": [
        "Q-15. Rename the key of a dictionary.\n",
        "Dict = { \"name\": \"Shakil\", \"age\":27, \"city\": “Berlin”, \"country\": \"Germany\" }\n",
        "Write a program to rename a key ‘country’ to a ‘region’ in the following dictionary."
      ],
      "metadata": {
        "id": "YhPwQExfM37z"
      }
    },
    {
      "cell_type": "code",
      "source": [
        "Dict = { \"name\": \"Shakil\", \"age\":27, \"city\": \"Berlin\", \"country\": \"Germany\" }\n",
        "Dict['region'] = Dict.pop('country')\n",
        "print(Dict)"
      ],
      "metadata": {
        "colab": {
          "base_uri": "https://localhost:8080/"
        },
        "id": "_arFkt6VMkWJ",
        "outputId": "94e1c29a-3274-47ef-9a89-a73d94910cbd"
      },
      "execution_count": 65,
      "outputs": [
        {
          "output_type": "stream",
          "name": "stdout",
          "text": [
            "{'name': 'Shakil', 'age': 27, 'city': 'Berlin', 'region': 'Germany'}\n"
          ]
        }
      ]
    },
    {
      "cell_type": "markdown",
      "source": [
        "Q-16: Creating a data frame using the list.\n",
        "num = [10,100,300] (column name is number)"
      ],
      "metadata": {
        "id": "4W2KLs8nNfV8"
      }
    },
    {
      "cell_type": "code",
      "source": [
        "import pandas as pd\n",
        "\n",
        "num = [10,100,300]\n",
        "df = pd.DataFrame(num, columns=['number'])\n",
        "\n",
        "print(df)\n"
      ],
      "metadata": {
        "colab": {
          "base_uri": "https://localhost:8080/"
        },
        "id": "6IsH7AIJNj2_",
        "outputId": "5adf092d-a7d0-4672-d898-9f09415417f9"
      },
      "execution_count": 70,
      "outputs": [
        {
          "output_type": "stream",
          "name": "stdout",
          "text": [
            "   number\n",
            "0      10\n",
            "1     100\n",
            "2     300\n"
          ]
        }
      ]
    },
    {
      "cell_type": "markdown",
      "source": [
        "Q-17: Change the value of a key in a given dictionary.\n",
        "Write a Python program to change ‘age’ to 28 in the following dictionary.\n",
        "Dict = { \"name\": \"Shakil\", \"age\":27, \"city\": “Berlin”, \"country\": \"Germany\" }"
      ],
      "metadata": {
        "id": "pUndWnnXOKdK"
      }
    },
    {
      "cell_type": "code",
      "source": [
        "Dict = { \"name\": \"Shakil\", \"age\":27, \"city\": \"Berlin\", \"country\": \"Germany\" }\n",
        "print(Dict)\n",
        "Dict['age'] = 28\n",
        "print(Dict)"
      ],
      "metadata": {
        "colab": {
          "base_uri": "https://localhost:8080/"
        },
        "id": "rBOvNdUmNpgf",
        "outputId": "63408bf2-44ea-47fb-9a15-8169b9a9f791"
      },
      "execution_count": 72,
      "outputs": [
        {
          "output_type": "stream",
          "name": "stdout",
          "text": [
            "{'name': 'Shakil', 'age': 27, 'city': 'Berlin', 'country': 'Germany'}\n",
            "{'name': 'Shakil', 'age': 28, 'city': 'Berlin', 'country': 'Germany'}\n"
          ]
        }
      ]
    }
  ]
}